{
 "cells": [
  {
   "cell_type": "markdown",
   "metadata": {},
   "source": [
    "IQ студентов ИВТ-б-о-191"
   ]
  },
  {
   "cell_type": "markdown",
   "metadata": {},
   "source": [
    "IQ:\n",
    "Никита В. – 121.\n",
    "\n",
    "Никита У. – 122.\n",
    "\n",
    "Кирилл Г. – 89.\n",
    "\n",
    "Егор Е. - -1000.\n"
   ]
  },
  {
   "cell_type": "code",
   "execution_count": 6,
   "metadata": {},
   "outputs": [
    {
     "data": {
      "text/plain": [
       "Text(0, 0.5, 'Степень развития')"
      ]
     },
     "execution_count": 6,
     "metadata": {},
     "output_type": "execute_result"
    },
    {
     "data": {
      "image/png": "[encoded data removed]",
      "text/plain": [
       "<Figure size 432x288 with 1 Axes>"
      ]
     },
     "metadata": {
      "needs_background": "light"
     },
     "output_type": "display_data"
    }
   ],
   "source": [
    "import matplotlib.pyplot as plt\n",
    "%matplotlib inline\n",
    "fruits = [\"Никита В.\",\"Никита У.\", \"Кирилл Г.\", \"Егор Е.\"]\n",
    "counts = [121,122,89,-1000]\n",
    "plt.bar(fruits, counts)\n",
    "plt.title(\"IQ\")\n",
    "plt.xlabel(\"Имена индивидов\")\n",
    "plt.ylabel(\"Степень развития\")"
   ]
  },
  {
   "cell_type": "code",
   "execution_count": null,
   "metadata": {},
   "outputs": [],
   "source": []
  }
 ],
 "metadata": {
  "kernelspec": {
   "display_name": "Python 3",
   "language": "python",
   "name": "python3"
  },
  "language_info": {
   "codemirror_mode": {
    "name": "ipython",
    "version": 3
   },
   "file_extension": ".py",
   "mimetype": "text/x-python",
   "name": "python",
   "nbconvert_exporter": "python",
   "pygments_lexer": "ipython3",
   "version": "3.8.3"
  }
 },
 "nbformat": 4,
 "nbformat_minor": 4
}
